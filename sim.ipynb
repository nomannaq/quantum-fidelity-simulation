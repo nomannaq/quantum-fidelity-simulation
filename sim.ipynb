{
 "cells": [
  {
   "cell_type": "code",
   "execution_count": null,
   "metadata": {},
   "outputs": [],
   "source": [
    "!pip install qiskit"
   ]
  },
  {
   "cell_type": "code",
   "execution_count": null,
   "metadata": {},
   "outputs": [],
   "source": [
    "from qiskit import QuantumCircuit, QuantumRegister, ClassicalRegister\n",
    "from qiskit_aer import AerSimulator\n",
    "from qiskit.quantum_info import partial_trace, Statevector, state_fidelity\n",
    "import numpy as np"
   ]
  },
  {
   "cell_type": "code",
   "execution_count": null,
   "metadata": {},
   "outputs": [],
   "source": [
    "def create_teleportation_circuit(state_to_teleport=None):\n",
    "    # Create registers\n",
    "    qr = QuantumRegister(3, 'q')  # Three qubits: sender, auxiliary, receiver\n",
    "    cr = ClassicalRegister(2, 'c')  # Two classical bits for measurements\n",
    "    circuit = QuantumCircuit(qr, cr)\n",
    "    \n",
    "    # Prepare the state to teleport (if not provided, create random state)\n",
    "    if state_to_teleport is None:\n",
    "        circuit.rx(np.random.random() * np.pi, qr[0])\n",
    "        circuit.ry(np.random.random() * np.pi, qr[0])\n",
    "    else:\n",
    "        circuit.initialize(state_to_teleport, qr[0])\n",
    "    \n",
    "    # Create entanglement between auxiliary and receiver qubits (Bell pair)\n",
    "    circuit.h(qr[1])  # Hadamard gate on auxiliary qubit\n",
    "    circuit.cx(qr[1], qr[2])  # CNOT with auxiliary as control, receiver as target\n",
    "    \n",
    "    # Perform Bell state measurement between sender and auxiliary qubits\n",
    "    circuit.cx(qr[0], qr[1])\n",
    "    circuit.h(qr[0])\n",
    "    \n",
    "    # Measure sender and auxiliary qubits\n",
    "    circuit.measure(qr[0], cr[0])\n",
    "    circuit.measure(qr[1], cr[1])\n",
    "    \n",
    "    # Apply corrections based on measurements\n",
    "    with circuit.if_test((cr[1], 1)):  # If second bit is 1\n",
    "        circuit.x(qr[2])\n",
    "    with circuit.if_test((cr[0], 1)):  # If first bit is 1\n",
    "        circuit.z(qr[2])\n",
    "    \n",
    "    # Save the state vector for later analysis\n",
    "    circuit.save_statevector()\n",
    "    \n",
    "    return circuit"
   ]
  },
  {
   "cell_type": "code",
   "execution_count": null,
   "metadata": {},
   "outputs": [],
   "source": [
    "def run_teleportation(state_to_teleport=None):\n",
    "    # Create and run the circuit\n",
    "    circuit = create_teleportation_circuit(state_to_teleport)\n",
    "    \n",
    "    # Create simulator with statevector method\n",
    "    simulator = AerSimulator(method='statevector')\n",
    "    \n",
    "    # Run the circuit\n",
    "    result = simulator.run(circuit).result()\n",
    "    \n",
    "    # Extract statevector after teleportation\n",
    "    final_statevector = result.get_statevector()\n",
    "    \n",
    "    # Reduce to single-qubit state (receiver qubit)\n",
    "    final_state = Statevector(final_statevector)\n",
    "    receiver_state = partial_trace(final_state, [0, 1])  # Trace out sender and auxiliary qubits\n",
    "    \n",
    "    # If a state was provided, calculate fidelity\n",
    "    if state_to_teleport is not None:\n",
    "        fidelity = state_fidelity(state_to_teleport, receiver_state)\n",
    "    else:\n",
    "        fidelity = None  # No fidelity if random state was used\n",
    "    \n",
    "    print(f\"Teleportation completed!\")\n",
    "    print(f\"Receiver state: {receiver_state}\")\n",
    "    if fidelity is not None:\n",
    "        print(f\"Fidelity: {fidelity:.4f}\")\n",
    "    \n",
    "    return circuit, receiver_state"
   ]
  },
  {
   "cell_type": "code",
   "execution_count": null,
   "metadata": {},
   "outputs": [],
   "source": [
    "# Run the teleportation with a specific state\n",
    "specific_state = [1/np.sqrt(2), 1/np.sqrt(2)]  # Equal superposition state\n",
    "circuit, receiver_state = run_teleportation(specific_state)\n",
    "\n",
    "# Print the circuit\n",
    "print(\"\\nQuantum Circuit:\")\n",
    "print(circuit)"
   ]
  }
 ],
 "metadata": {
  "language_info": {
   "name": "python"
  }
 },
 "nbformat": 4,
 "nbformat_minor": 2
}
